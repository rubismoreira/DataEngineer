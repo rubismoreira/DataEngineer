{
 "cells": [
  {
   "cell_type": "markdown",
   "metadata": {},
   "source": [
    "INTRO TO PYTHON\n",
    "\n",
    "Operators and control structures"
   ]
  },
  {
   "cell_type": "code",
   "execution_count": 22,
   "metadata": {},
   "outputs": [
    {
     "name": "stdout",
     "output_type": "stream",
     "text": [
      "the walker would need  6.0  days and  12.25\n"
     ]
    }
   ],
   "source": [
    "distance = 750\n",
    "speed = 4.8\n",
    "time = distance /speed\n",
    "\n",
    "days = time // (24)\n",
    "hours = time % 24\n",
    "\n",
    "print(\"the walker would need \" , days , \" days and \" , hours)\n",
    "\n"
   ]
  },
  {
   "cell_type": "code",
   "execution_count": 13,
   "metadata": {},
   "outputs": [
    {
     "name": "stdout",
     "output_type": "stream",
     "text": [
      "True\n"
     ]
    }
   ],
   "source": [
    "prime_numbers = [5, 7, 11, 13, 17, 19, 23, 29, 31, 37]\n",
    "x = prime_numbers[0]\n",
    "\n",
    "magic_statement = True\n",
    "# Insert your code here\n",
    "for x in prime_numbers:\n",
    "    if (x ** 2 + 17)%12 != 6:\n",
    "        magic_statement = False\n",
    "        break\n",
    "\n",
    "print(magic_statement);\n"
   ]
  },
  {
   "cell_type": "code",
   "execution_count": 15,
   "metadata": {},
   "outputs": [
    {
     "name": "stdout",
     "output_type": "stream",
     "text": [
      "True\n"
     ]
    }
   ],
   "source": [
    "to_be_divided = 3 ** 7 + 2 ** 14\n",
    "print(to_be_divided % 7 == 0)\n"
   ]
  },
  {
   "cell_type": "code",
   "execution_count": 17,
   "metadata": {},
   "outputs": [
    {
     "name": "stdout",
     "output_type": "stream",
     "text": [
      "4  does not divide\n",
      "5  does not divide\n",
      "10  does not divide\n"
     ]
    }
   ],
   "source": [
    "candidates = [4,5,10]\n",
    "for x in candidates:\n",
    "    if to_be_divided % x == 0:\n",
    "        print(x, \" divides\")\n",
    "    else:\n",
    "        print(x, \" does not divide\")\n",
    "        \n"
   ]
  },
  {
   "cell_type": "code",
   "execution_count": 19,
   "metadata": {},
   "outputs": [],
   "source": [
    "excerpt = ['The', '21', 'World', 'Cup', 'tournaments', 'have', 'been', 'won', 'by', 'eight',\n",
    "           'national', 'teams.', 'Brazil', 'have', 'won', 'five', 'times', ',', 'and',\n",
    "           'they', 'are', 'the', 'only', 'team', 'to', 'have', 'played', 'in', 'every',\n",
    "           'tournament', '.', 'The', 'other', 'World', 'Cup', 'winners', 'are', 'Germany',\n",
    "           'and', 'Italy', ',', 'with', 'four', 'titles', 'each', ';', 'Argentina', ',',\n",
    "           'France', ',', 'and', 'inaugural', 'winner', 'Uruguay,', 'with', 'two', 'titles',\n",
    "           'each', ';and', 'England', 'and', 'Spain', ',', 'with', 'one', 'title', 'each', '.']"
   ]
  },
  {
   "cell_type": "code",
   "execution_count": 21,
   "metadata": {},
   "outputs": [
    {
     "name": "stdout",
     "output_type": "stream",
     "text": [
      "True\n",
      "True\n"
     ]
    }
   ],
   "source": [
    "is_france_on = \"France\" in excerpt\n",
    "print(is_france_on)\n",
    "\n",
    "is_not_croatia_on = \"Croatia\" not in excerpt\n",
    "print(is_not_croatia_on)"
   ]
  },
  {
   "cell_type": "code",
   "execution_count": 4,
   "metadata": {},
   "outputs": [
    {
     "name": "stdout",
     "output_type": "stream",
     "text": [
      "Bernaddete  is entitled to bonus criteria 3\n",
      "Marc  is not entitled\n"
     ]
    }
   ],
   "source": [
    "bernadette = {\"name\": \"Bernaddete\", \"seniority\": 12, \"salary\": 2400}\n",
    "marc = {\"name\": \"Marc\", \"seniority\": 6, \"salary\": 1490}\n",
    "\n",
    "candidates = [bernadette, marc]\n",
    "\n",
    "for candidate in candidates:\n",
    "    if candidate[\"seniority\"] < 5 and candidate[\"salary\"] < 1500:\n",
    "        print(candidate[\"name\"], \" is entitled to bonus criteria 1\")\n",
    "    elif (candidate[\"seniority\"] >= 5 and candidate[\"seniority\"] < 10) and (1500 <=  candidate[\"salary\"] <= 2300):\n",
    "        print(candidate[\"name\"], \" is entitled to bonus criteria 2\")\n",
    "    elif (candidate[\"seniority\"] >= 10 ) and (candidate[\"salary\"] < 1500 or candidate[\"salary\"] > 2300):\n",
    "        print(candidate[\"name\"], \" is entitled to bonus criteria 3\")\n",
    "    else:\n",
    "        print(candidate[\"name\"], \" is not entitled\")\n",
    "        \n",
    " "
   ]
  },
  {
   "cell_type": "code",
   "execution_count": 5,
   "metadata": {},
   "outputs": [
    {
     "name": "stdout",
     "output_type": "stream",
     "text": [
      "This number is negative.\n"
     ]
    }
   ],
   "source": [
    "number = -2\n",
    "\n",
    "# Insert your code here\n",
    "\n",
    "if number == 0:\n",
    "    print(\"This number is 0.\")\n",
    "elif number > 0:\n",
    "    print(\"This number is positive.\")\n",
    "else:\n",
    "    print(\"This number is negative.\")"
   ]
  },
  {
   "cell_type": "code",
   "execution_count": 6,
   "metadata": {},
   "outputs": [
    {
     "name": "stdout",
     "output_type": "stream",
     "text": [
      "This person is very, very tall\n"
     ]
    }
   ],
   "source": [
    "size = 205\n",
    "\n",
    "# Insert your code here\n",
    "\n",
    "if size < 160:\n",
    "  print(\"This person is small.\")\n",
    "elif 160 <= size < 180:\n",
    "  print(\"This person is of medium height.\")\n",
    "elif 180 <= size < 200:\n",
    "  print(\"This person is very tall\")\n",
    "else:\n",
    "  print(\"This person is very, very tall\")"
   ]
  },
  {
   "cell_type": "markdown",
   "metadata": {},
   "source": [
    "# Loops"
   ]
  },
  {
   "cell_type": "code",
   "execution_count": 12,
   "metadata": {},
   "outputs": [
    {
     "name": "stdout",
     "output_type": "stream",
     "text": [
      "1\n",
      "2\n",
      "3\n",
      "4\n",
      "5\n",
      "6\n",
      "7\n",
      "8\n",
      "9\n",
      "10\n"
     ]
    }
   ],
   "source": [
    "i = 1\n",
    "\n",
    "while i < 11:\n",
    "    print(i)\n",
    "    i+=1"
   ]
  },
  {
   "cell_type": "code",
   "execution_count": 13,
   "metadata": {},
   "outputs": [
    {
     "name": "stdout",
     "output_type": "stream",
     "text": [
      "9\n"
     ]
    }
   ],
   "source": [
    "results = [9.81, 9.89, 9.91, 9.93, 9.94, 9.95, 9.96, 9.97, 9.98, 10.03, 10.04, 10.05, 10.06, 10.08, 10.11, 10.23]\n",
    "\n",
    "# Insert your code here\n",
    "\n",
    "amount = 0;\n",
    "ix = 0\n",
    "\n",
    "while ix < len(results):\n",
    "    if(results[ix] < 10):\n",
    "        amount += 1\n",
    "    ix +=1\n",
    "print(amount)\n",
    "\n"
   ]
  },
  {
   "cell_type": "code",
   "execution_count": 16,
   "metadata": {},
   "outputs": [
    {
     "name": "stdout",
     "output_type": "stream",
     "text": [
      "Avg is  6.7\n",
      "[4, 6, 7, 7, 7, 7, 8, 9, 9, 9, 10, 10, 10, 10, 10, 11, 11, 12, 12, 12, 12, 12, 12, 13, 14, 14, 14, 15, 16, 18]\n",
      "New Avg is  10.7\n"
     ]
    }
   ],
   "source": [
    "bad_marks = [0, 2, 3, 3, 3, 3, 4, 5, 5, 5, 6, 6, 6, 6, 6, 7, 7, 8, 8, 8, 8, 8, 8, 9, 10, 10, 10, 11, 12, 14]\n",
    "\n",
    "# Insert your code here\n",
    "\n",
    "sum = 0;\n",
    "good_marks = [];\n",
    "\n",
    "for mark in bad_marks:\n",
    "    sum += mark;\n",
    "    good_marks.append(mark + 4)\n",
    "\n",
    "print(\"Avg is \", sum/30)\n",
    "print(good_marks)\n",
    "new_avg = (sum + 4*30)/30\n",
    "\n",
    "print(\"New Avg is \", new_avg)\n"
   ]
  },
  {
   "cell_type": "code",
   "execution_count": 17,
   "metadata": {},
   "outputs": [
    {
     "name": "stdout",
     "output_type": "stream",
     "text": [
      "Current Max  8\n",
      "Current Min  1\n"
     ]
    }
   ],
   "source": [
    "# Insert your code here\n",
    "\n",
    "\n",
    "ls =[2,3,8,1,4]\n",
    "\n",
    "current_max = ls[0]\n",
    "current_min = ls[1]\n",
    "\n",
    "for n in ls[1:]:\n",
    "    if n > current_max:\n",
    "        current_max = n\n",
    "    if n < current_min:\n",
    "        current_min = n\n",
    "\n",
    "print(\"Current Max \", current_max)\n",
    "print(\"Current Min \", current_min)\n"
   ]
  },
  {
   "cell_type": "code",
   "execution_count": 18,
   "metadata": {},
   "outputs": [
    {
     "name": "stdout",
     "output_type": "stream",
     "text": [
      "8\n",
      "1\n"
     ]
    }
   ],
   "source": [
    "current_max = max(ls)\n",
    "print(current_max)\n",
    "\n",
    "current_min = min(ls)\n",
    "print(current_min)"
   ]
  },
  {
   "cell_type": "code",
   "execution_count": 19,
   "metadata": {},
   "outputs": [
    {
     "name": "stdout",
     "output_type": "stream",
     "text": [
      "Number 4 is present\n"
     ]
    }
   ],
   "source": [
    "ls_3 = [2,3,4,5,6,4]\n",
    "for number in ls_3:\n",
    "    if number == 4:\n",
    "        print(\"Number 4 is present\")\n",
    "        break"
   ]
  },
  {
   "cell_type": "code",
   "execution_count": 20,
   "metadata": {},
   "outputs": [
    {
     "name": "stdout",
     "output_type": "stream",
     "text": [
      "range(3, 11, 2)\n"
     ]
    }
   ],
   "source": [
    "print(range(3, 11, 2))"
   ]
  },
  {
   "cell_type": "code",
   "execution_count": 25,
   "metadata": {},
   "outputs": [
    {
     "name": "stdout",
     "output_type": "stream",
     "text": [
      "[0, 1, 1, 2, 3, 5, 8, 13, 21, 34, 55, 89, 144, 233, 377, 610, 987, 1597, 2584, 4181, 6765, 10946, 17711, 28657, 46368, 75025, 121393, 196418, 317811, 514229, 832040, 1346269, 2178309, 3524578, 5702887, 9227465, 14930352, 24157817, 39088169, 63245986, 102334155, 165580141, 267914296, 433494437, 701408733, 1134903170, 1836311903, 2971215073, 4807526976, 7778742049, 12586269025, 20365011074, 32951280099, 53316291173, 86267571272, 139583862445, 225851433717, 365435296162, 591286729879, 956722026041, 1548008755920, 2504730781961, 4052739537881, 6557470319842, 10610209857723, 17167680177565, 27777890035288, 44945570212853, 72723460248141, 117669030460994, 190392490709135, 308061521170129, 498454011879264, 806515533049393, 1304969544928657, 2111485077978050, 3416454622906707, 5527939700884757, 8944394323791464, 14472334024676221, 23416728348467685, 37889062373143906, 61305790721611591, 99194853094755497, 160500643816367088, 259695496911122585, 420196140727489673, 679891637638612258, 1100087778366101931, 1779979416004714189, 2880067194370816120, 4660046610375530309, 7540113804746346429, 12200160415121876738, 19740274219868223167, 31940434634990099905, 51680708854858323072, 83621143489848422977, 135301852344706746049, 218922995834555169026, 354224848179261915075]\n"
     ]
    }
   ],
   "source": [
    "previou_term = 0\n",
    "fibo = [0,1]\n",
    "for current_term in range(2, 101):\n",
    "    fibo.append(fibo[current_term - 1] + fibo[current_term - 2])\n",
    "print(fibo)"
   ]
  },
  {
   "cell_type": "code",
   "execution_count": 26,
   "metadata": {},
   "outputs": [
    {
     "name": "stdout",
     "output_type": "stream",
     "text": [
      "2048000\n"
     ]
    }
   ],
   "source": [
    "initial_area = 2000\n",
    "for year in range(1, 11):\n",
    "    initial_area*=2\n",
    "\n",
    "print(initial_area)"
   ]
  },
  {
   "cell_type": "code",
   "execution_count": 28,
   "metadata": {},
   "outputs": [
    {
     "name": "stdout",
     "output_type": "stream",
     "text": [
      "2048000\n"
     ]
    }
   ],
   "source": [
    "initial_area = 2000\n",
    "current_year = 1\n",
    "while current_year <= 10:\n",
    "    initial_area*=2\n",
    "    current_year += 1\n",
    "\n",
    "print(initial_area)"
   ]
  },
  {
   "cell_type": "code",
   "execution_count": 41,
   "metadata": {},
   "outputs": [
    {
     "name": "stdout",
     "output_type": "stream",
     "text": [
      "ograc\n",
      "2\n"
     ]
    }
   ],
   "source": [
    "# Insert your code here\n",
    "inverted_word= \"\"\n",
    "word = \"cargo\"\n",
    "\n",
    "for i in range(1, len(word) + 1):\n",
    "    inverted_word += word[-i]\n",
    "    \n",
    "print(inverted_word)\n",
    "\n",
    "\n",
    "print(len(word)//2 )"
   ]
  },
  {
   "cell_type": "code",
   "execution_count": 45,
   "metadata": {},
   "outputs": [
    {
     "name": "stdout",
     "output_type": "stream",
     "text": [
      "cargo\n"
     ]
    }
   ],
   "source": [
    "print(word[::])"
   ]
  },
  {
   "cell_type": "code",
   "execution_count": 46,
   "metadata": {},
   "outputs": [
    {
     "name": "stdout",
     "output_type": "stream",
     "text": [
      "[4, 3, 2, 1]\n"
     ]
    }
   ],
   "source": [
    "ls = [1,2,3,4]\n",
    "print(ls[::-1])"
   ]
  },
  {
   "cell_type": "code",
   "execution_count": 47,
   "metadata": {},
   "outputs": [
    {
     "name": "stdout",
     "output_type": "stream",
     "text": [
      "34\n"
     ]
    }
   ],
   "source": [
    "text = ['The', '21', 'World', 'Cup', 'tournaments', 'have', 'been', 'won', 'by', 'eight',\n",
    "        'national', 'teams.', 'Brazil', 'have', 'won', 'five', 'times', ',', 'and',\n",
    "        'they', 'are', 'the', 'only', 'team', 'to', 'have', 'played', 'in', 'every',\n",
    "        'tournament', '.', 'The', 'other', 'World', 'Cup', 'winners', 'are', 'Germany',\n",
    "        'and', 'Italy', ',', 'with', 'four', 'titles', 'each', ';', 'Argentina', ',',\n",
    "        'France', ',', 'and', 'inaugural', 'winner', 'Uruguay,', 'with', 'two', 'titles',\n",
    "        'each', ';and', 'England', 'and', 'Spain', ',', 'with', 'one', 'title', 'each', '.']\n",
    "\n",
    "counter = 0\n",
    "for word in text:\n",
    "    for letter in word:\n",
    "        if(letter == 'e'):\n",
    "            counter += 1\n",
    "\n",
    "print(counter)"
   ]
  },
  {
   "cell_type": "code",
   "execution_count": 50,
   "metadata": {},
   "outputs": [
    {
     "name": "stdout",
     "output_type": "stream",
     "text": [
      "6\n"
     ]
    }
   ],
   "source": [
    "ls_2 = ['iconoclastic cargo', 'unbelievable imagination']\n",
    "counter = 0 \n",
    "for phrase in ls_2:\n",
    "    for ix  in range(0, len(phrase)):\n",
    "        if(phrase[ix] == 'i'):\n",
    "            counter += 1\n",
    "\n",
    "print(counter)"
   ]
  },
  {
   "cell_type": "code",
   "execution_count": 52,
   "metadata": {},
   "outputs": [
    {
     "name": "stdout",
     "output_type": "stream",
     "text": [
      "[0, 1, 4, 9, 16, 25, 36, 49, 64, 81]\n"
     ]
    }
   ],
   "source": [
    "my_list = [i**2 for i in range(10)]\n",
    "print(my_list)"
   ]
  },
  {
   "cell_type": "code",
   "execution_count": 55,
   "metadata": {},
   "outputs": [
    {
     "name": "stdout",
     "output_type": "stream",
     "text": [
      "[1, 3, 9, 27, 81, 243, 729, 2187, 6561, 19683]\n"
     ]
    }
   ],
   "source": [
    "powers_three = [3 ** i for i in range(10)]\n",
    "print(powers_three)"
   ]
  },
  {
   "cell_type": "code",
   "execution_count": 59,
   "metadata": {},
   "outputs": [
    {
     "name": "stdout",
     "output_type": "stream",
     "text": [
      "[20, 24, 14, 6, 52, 4, 38]\n",
      "['even', 'even', 'seven', 'odd', 'even', 'even', 'odd']\n"
     ]
    }
   ],
   "source": [
    "# The list of numbers for the last two questions\n",
    "numbers_list = [10, 12, 7, 3, 26, 2, 19]\n",
    "\n",
    "# Insert your code here\n",
    "\n",
    "double_list = [i * 2 for i in numbers_list]\n",
    "print(double_list)\n",
    "even_list = [\"even\" if i % 2 == 0 else \"seven\" if i == 7 else \"odd\" for i in numbers_list]\n",
    "\n",
    "print(even_list)\n"
   ]
  },
  {
   "cell_type": "code",
   "execution_count": 61,
   "metadata": {},
   "outputs": [
    {
     "name": "stdout",
     "output_type": "stream",
     "text": [
      "['level', 'noon', 'deed']\n"
     ]
    }
   ],
   "source": [
    "l = [\"level\", \"hello\", \"noon\", \"summer\", \"deed\"]\n",
    "\n",
    "palindrome = [i for i in l if i[::-1] == i]\n",
    "print(palindrome)"
   ]
  },
  {
   "cell_type": "code",
   "execution_count": 62,
   "metadata": {},
   "outputs": [
    {
     "name": "stdout",
     "output_type": "stream",
     "text": [
      "12\n"
     ]
    }
   ],
   "source": [
    "L = [22, 65, 75, 93, 64, 47, 91, 53, 86, 53, 88, 17, 94, 39]\n",
    "\n",
    "max = L[0]\n",
    "maxIndex = 0\n",
    "for index, element in enumerate(L):\n",
    "    if element > max:\n",
    "        max = element\n",
    "        maxIndex = index\n",
    "        \n",
    "print(maxIndex)"
   ]
  },
  {
   "cell_type": "code",
   "execution_count": 63,
   "metadata": {},
   "outputs": [
    {
     "name": "stdout",
     "output_type": "stream",
     "text": [
      "[200, 300, -500, -700, -200, 1000, 1000, 0, 350, -1300, 300, 250, 450]\n"
     ]
    }
   ],
   "source": [
    "incomes = [1200, 2000, 1500, 0, 1000, 4500, 1200, 500, 1350, 2200, 1650, 1300, 2300]\n",
    "expenses = [1000, 1700, 2000, 700, 1200, 3500, 200, 500, 1000, 3500, 1350, 1050, 1850]\n",
    "\n",
    "savings = [ income - expense for income, expense in zip(incomes, expenses)]\n",
    "print(savings)\n",
    "\n",
    "# Insert your code here"
   ]
  },
  {
   "cell_type": "code",
   "execution_count": null,
   "metadata": {},
   "outputs": [],
   "source": []
  },
  {
   "cell_type": "code",
   "execution_count": null,
   "metadata": {},
   "outputs": [],
   "source": []
  },
  {
   "cell_type": "code",
   "execution_count": null,
   "metadata": {},
   "outputs": [],
   "source": []
  },
  {
   "cell_type": "code",
   "execution_count": null,
   "metadata": {},
   "outputs": [],
   "source": []
  },
  {
   "cell_type": "code",
   "execution_count": null,
   "metadata": {},
   "outputs": [],
   "source": []
  },
  {
   "cell_type": "code",
   "execution_count": null,
   "metadata": {},
   "outputs": [],
   "source": []
  },
  {
   "cell_type": "code",
   "execution_count": null,
   "metadata": {},
   "outputs": [],
   "source": []
  },
  {
   "cell_type": "code",
   "execution_count": null,
   "metadata": {},
   "outputs": [],
   "source": []
  },
  {
   "cell_type": "code",
   "execution_count": null,
   "metadata": {},
   "outputs": [],
   "source": []
  },
  {
   "cell_type": "code",
   "execution_count": null,
   "metadata": {},
   "outputs": [],
   "source": []
  },
  {
   "cell_type": "code",
   "execution_count": null,
   "metadata": {},
   "outputs": [],
   "source": []
  },
  {
   "cell_type": "code",
   "execution_count": null,
   "metadata": {},
   "outputs": [],
   "source": []
  },
  {
   "cell_type": "code",
   "execution_count": null,
   "metadata": {},
   "outputs": [],
   "source": []
  },
  {
   "cell_type": "code",
   "execution_count": null,
   "metadata": {},
   "outputs": [],
   "source": []
  },
  {
   "cell_type": "code",
   "execution_count": null,
   "metadata": {},
   "outputs": [],
   "source": []
  },
  {
   "cell_type": "code",
   "execution_count": null,
   "metadata": {},
   "outputs": [],
   "source": []
  },
  {
   "cell_type": "code",
   "execution_count": null,
   "metadata": {},
   "outputs": [],
   "source": []
  },
  {
   "cell_type": "code",
   "execution_count": null,
   "metadata": {},
   "outputs": [],
   "source": []
  },
  {
   "cell_type": "code",
   "execution_count": null,
   "metadata": {},
   "outputs": [],
   "source": []
  },
  {
   "cell_type": "code",
   "execution_count": null,
   "metadata": {},
   "outputs": [],
   "source": []
  },
  {
   "cell_type": "code",
   "execution_count": null,
   "metadata": {},
   "outputs": [],
   "source": []
  },
  {
   "cell_type": "code",
   "execution_count": null,
   "metadata": {},
   "outputs": [],
   "source": []
  },
  {
   "cell_type": "code",
   "execution_count": null,
   "metadata": {},
   "outputs": [],
   "source": []
  },
  {
   "cell_type": "code",
   "execution_count": null,
   "metadata": {},
   "outputs": [],
   "source": []
  }
 ],
 "metadata": {
  "kernelspec": {
   "display_name": "base",
   "language": "python",
   "name": "python3"
  },
  "language_info": {
   "codemirror_mode": {
    "name": "ipython",
    "version": 3
   },
   "file_extension": ".py",
   "mimetype": "text/x-python",
   "name": "python",
   "nbconvert_exporter": "python",
   "pygments_lexer": "ipython3",
   "version": "3.11.4"
  },
  "orig_nbformat": 4
 },
 "nbformat": 4,
 "nbformat_minor": 2
}
